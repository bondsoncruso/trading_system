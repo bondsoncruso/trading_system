{
 "cells": [
  {
   "cell_type": "markdown",
   "metadata": {},
   "source": [
    "# Get Data"
   ]
  },
  {
   "cell_type": "code",
   "execution_count": 1,
   "metadata": {},
   "outputs": [],
   "source": [
    "import pandas as pd\n",
    "\n",
    "file_path = '../data/processed/UpstoxData.pkl'\n",
    "\n",
    "combined_df = pd.read_pickle(file_path)"
   ]
  },
  {
   "cell_type": "code",
   "execution_count": 2,
   "metadata": {},
   "outputs": [],
   "source": [
    "# Identify unique symbols where the volume is less than zero\n",
    "symbols_to_remove = combined_df[combined_df['volume'] < 0]['symbol'].unique()\n",
    "\n",
    "# Filter the original DataFrame to exclude the rows with these symbols\n",
    "combined_df = combined_df[~combined_df['symbol'].isin(symbols_to_remove)]\n",
    "# manual_symbols = [\n",
    "#     'RELIANCE', 'TCS', 'HDFCBANK', 'INFY', 'HINDUNILVR',\n",
    "#     'HDFC', 'ICICIBANK', 'KOTAKBANK', 'SBIN', 'BAJFINANCE',\n",
    "#     'BHARTIARTL', 'ITC', 'ASIANPAINT', 'LT', 'WIPRO',\n",
    "#     'AXISBANK', 'MARUTI', 'ONGC', 'SUNPHARMA', 'HCLTECH',\n",
    "#     # 'HINDALCO', 'SHREECEM', 'TECHM', 'NTPC', 'TITAN',\n",
    "#     # 'HEROMOTOCO', 'COALINDIA', 'BRITANNIA', 'DRREDDY',\n",
    "#     'BAJAJFINSV', 'BAJAJHLDNG', 'CIPLA', 'EICHERMOT',\n",
    "#     'ZOMATO'\n",
    "#     ]\n",
    "\n",
    "# combined_df = combined_df[combined_df['symbol'].isin(manual_symbols)]\n",
    "# Sort the DataFrame first by 'symbol' and then by 'date', both in ascending order\n",
    "combined_df = combined_df.sort_values(by=['symbol', 'date'], ascending=[True, True]).reset_index(drop=True)\n"
   ]
  },
  {
   "cell_type": "markdown",
   "metadata": {},
   "source": [
    "# Add Indicators"
   ]
  },
  {
   "cell_type": "code",
   "execution_count": 3,
   "metadata": {},
   "outputs": [],
   "source": [
    "import talib\n",
    "import pandas as pd\n",
    "\n",
    "# Function to apply TA-Lib indicators\n",
    "def apply_talib_indicators(group_df):\n",
    "    if group_df.empty:\n",
    "        print(\"Received an empty DataFrame.\")\n",
    "        return pd.DataFrame()\n",
    "\n",
    "    # Prices and volume\n",
    "    close = group_df['close'].astype(float).to_numpy()\n",
    "    high = group_df['high'].astype(float).to_numpy()\n",
    "    low = group_df['low'].astype(float).to_numpy()\n",
    "    volume = group_df['volume'].astype(float).to_numpy()\n",
    "    open = group_df['open'].astype(float).to_numpy()\n",
    "\n",
    "    indicators = {}\n",
    "\n",
    "    # Trend Indicators\n",
    "    indicators['SMA'] = talib.SMA(close, timeperiod=10)\n",
    "    indicators['EMA'] = talib.EMA(close, timeperiod=20)\n",
    "    indicators['SAR'] = talib.SAR(high, low, acceleration=0.02, maximum=0.2)\n",
    "    indicators['ADX'] = talib.ADX(high, low, close, timeperiod=14)\n",
    "    indicators['ADXR'] = talib.ADXR(high, low, close, timeperiod=14)\n",
    "    indicators['APO'] = talib.APO(close, fastperiod=12, slowperiod=26, matype=0)\n",
    "    aroondown, aroonup = talib.AROON(high, low, timeperiod=14)\n",
    "    indicators['AROON_DOWN'] = aroondown\n",
    "    indicators['AROON_UP'] = aroonup\n",
    "    indicators['AROONOSC'] = talib.AROONOSC(high, low, timeperiod=14)\n",
    "    indicators['ATR'] = talib.ATR(high, low, close, timeperiod=14)\n",
    "    indicators['AVGPRICE'] = talib.AVGPRICE(open, high, low, close)\n",
    "    upperband, middleband, lowerband = talib.BBANDS(close, timeperiod=20, nbdevup=2, nbdevdn=2, matype=0)\n",
    "    indicators['Bollinger_Upper'] = upperband\n",
    "    indicators['Bollinger_Lower'] = lowerband\n",
    "    indicators['BETA'] = talib.BETA(high, low, timeperiod=5)\n",
    "    indicators['BOP'] = talib.BOP(open, high, low, close)\n",
    "    indicators['CCI'] = talib.CCI(high, low, close, timeperiod=14)\n",
    "    \n",
    "    # Candlestick Patterns\n",
    "    patterns = {\n",
    "        'CDL2CROWS': talib.CDL2CROWS,\n",
    "        'CDL3BLACKCROWS': talib.CDL3BLACKCROWS,\n",
    "        'CDL3INSIDE': talib.CDL3INSIDE,\n",
    "        'CDL3LINESTRIKE': talib.CDL3LINESTRIKE,\n",
    "        'CDL3STARSINSOUTH': talib.CDL3STARSINSOUTH,\n",
    "        'CDL3WHITESOLDIERS': talib.CDL3WHITESOLDIERS,\n",
    "        'CDLABANDONEDBABY': talib.CDLABANDONEDBABY,\n",
    "        'CDLADVANCEBLOCK': talib.CDLADVANCEBLOCK,\n",
    "        'CDLBELTHOLD': talib.CDLBELTHOLD,\n",
    "        'CDLBREAKAWAY': talib.CDLBREAKAWAY,\n",
    "        'CDLCLOSINGMARUBOZU': talib.CDLCLOSINGMARUBOZU,\n",
    "        'CDLCONCEALBABYSWALL': talib.CDLCONCEALBABYSWALL,\n",
    "        'CDLCOUNTERATTACK': talib.CDLCOUNTERATTACK,\n",
    "        'CDLDARKCLOUDCOVER': talib.CDLDARKCLOUDCOVER,\n",
    "        'CDLDOJI': talib.CDLDOJI,\n",
    "        'CDLDOJISTAR': talib.CDLDOJISTAR,\n",
    "        'CDLDRAGONFLYDOJI': talib.CDLDRAGONFLYDOJI,\n",
    "        'CDLENGULFING': talib.CDLENGULFING,\n",
    "        'CDLEVENINGDOJISTAR': talib.CDLEVENINGDOJISTAR,\n",
    "        'CDLEVENINGSTAR': talib.CDLEVENINGSTAR,\n",
    "        'CDLGAPSIDESIDEWHITE': talib.CDLGAPSIDESIDEWHITE,\n",
    "        'CDLGRAVESTONEDOJI': talib.CDLGRAVESTONEDOJI,\n",
    "        'CDLHAMMER': talib.CDLHAMMER,\n",
    "        'CDLHANGINGMAN': talib.CDLHANGINGMAN,\n",
    "        'CDLHARAMI': talib.CDLHARAMI,\n",
    "        'CDLHARAMICROSS': talib.CDLHARAMICROSS,\n",
    "        'CDLHIGHWAVE': talib.CDLHIGHWAVE,\n",
    "        'CDLHIKKAKE': talib.CDLHIKKAKE,\n",
    "        'CDLHIKKAKEMOD': talib.CDLHIKKAKEMOD,\n",
    "        'CDLHOMINGPIGEON': talib.CDLHOMINGPIGEON,\n",
    "        'CDLIDENTICAL3CROWS': talib.CDLIDENTICAL3CROWS,\n",
    "        'CDLINNECK': talib.CDLINNECK,\n",
    "        'CDLINVERTEDHAMMER': talib.CDLINVERTEDHAMMER,\n",
    "        'CDLKICKING': talib.CDLKICKING,\n",
    "        'CDLKICKINGBYLENGTH': talib.CDLKICKINGBYLENGTH,\n",
    "        'CDLLADDERBOTTOM': talib.CDLLADDERBOTTOM,\n",
    "        'CDLLONGLEGGEDDOJI': talib.CDLLONGLEGGEDDOJI,\n",
    "        'CDLLONGLINE': talib.CDLLONGLINE,\n",
    "        'CDLMARUBOZU': talib.CDLMARUBOZU,\n",
    "        'CDLMATCHINGLOW': talib.CDLMATCHINGLOW,\n",
    "        'CDLMATHOLD': talib.CDLMATHOLD,\n",
    "        'CDLMORNINGDOJISTAR': talib.CDLMORNINGDOJISTAR,\n",
    "        'CDLMORNINGSTAR': talib.CDLMORNINGSTAR,\n",
    "        'CDLONNECK': talib.CDLONNECK,\n",
    "        'CDLPIERCING': talib.CDLPIERCING,\n",
    "        'CDLRICKSHAWMAN': talib.CDLRICKSHAWMAN,\n",
    "        'CDLRISEFALL3METHODS': talib.CDLRISEFALL3METHODS,\n",
    "        'CDLSEPARATINGLINES': talib.CDLSEPARATINGLINES,\n",
    "        'CDLSHOOTINGSTAR': talib.CDLSHOOTINGSTAR,\n",
    "        'CDLSHORTLINE': talib.CDLSHORTLINE,\n",
    "        'CDLSPINNINGTOP': talib.CDLSPINNINGTOP,\n",
    "        'CDLSTALLEDPATTERN': talib.CDLSTALLEDPATTERN,\n",
    "        'CDLSTICKSANDWICH': talib.CDLSTICKSANDWICH,\n",
    "        'CDLTAKURI': talib.CDLTAKURI,\n",
    "        'CDLTASUKIGAP': talib.CDLTASUKIGAP,\n",
    "        'CDLTHRUSTING': talib.CDLTHRUSTING,\n",
    "        'CDLTRISTAR': talib.CDLTRISTAR,\n",
    "        'CDLUNIQUE3RIVER': talib.CDLUNIQUE3RIVER,\n",
    "        'CDLUPSIDEGAP2CROWS': talib.CDLUPSIDEGAP2CROWS,\n",
    "        'CDLXSIDEGAP3METHODS': talib.CDLXSIDEGAP3METHODS\n",
    "    }\n",
    "\n",
    "    for pattern_name, pattern_func in patterns.items():\n",
    "        indicators[pattern_name] = pattern_func(open, high, low, close)\n",
    "    \n",
    "    # Momentum Indicators\n",
    "    indicators['RSI'] = talib.RSI(close, timeperiod=14)\n",
    "    macd, macd_signal, _ = talib.MACD(close, fastperiod=12, slowperiod=26, signalperiod=9)\n",
    "    indicators['MACD'] = macd\n",
    "    indicators['MACD_signal'] = macd_signal\n",
    "    indicators['ROC'] = talib.ROC(close, timeperiod=10)\n",
    "    indicators['CMO'] = talib.CMO(close, timeperiod=14)\n",
    "    indicators['MFI'] = talib.MFI(high, low, close, volume, timeperiod=14)\n",
    "    indicators['MOM'] = talib.MOM(close, timeperiod=10)\n",
    "    indicators['PPO'] = talib.PPO(close, fastperiod=12, slowperiod=26, matype=0)\n",
    "    indicators['ROCP'] = talib.ROCP(close, timeperiod=10)\n",
    "    indicators['ROCR'] = talib.ROCR(close, timeperiod=10)\n",
    "    indicators['ROCR100'] = talib.ROCR100(close, timeperiod=10)\n",
    "    indicators['TRIX'] = talib.TRIX(close, timeperiod=30)\n",
    "    indicators['ULTOSC'] = talib.ULTOSC(high, low, close, timeperiod1=7, timeperiod2=14, timeperiod3=28)\n",
    "    indicators['WILLR'] = talib.WILLR(high, low, close, timeperiod=14)\n",
    "\n",
    "    # Volatility Indicators\n",
    "    indicators['NATR'] = talib.NATR(high, low, close, timeperiod=14)\n",
    "    indicators['TRANGE'] = talib.TRANGE(high, low, close)\n",
    "\n",
    "    # Volume Indicators\n",
    "    indicators['OBV'] = talib.OBV(close, volume)\n",
    "    indicators['ADL'] = talib.AD(high, low, close, volume)\n",
    "    indicators['ADOSC'] = talib.ADOSC(high, low, close, volume, fastperiod=3, slowperiod=10)\n",
    "    indicators['AD'] = talib.AD(high, low, close, volume)\n",
    "\n",
    "    # Price Transform\n",
    "    indicators['AVGPRICE'] = talib.AVGPRICE(open, high, low, close)\n",
    "    indicators['MEDPRICE'] = talib.MEDPRICE(high, low)\n",
    "    indicators['TYPPRICE'] = talib.TYPPRICE(high, low, close)\n",
    "    indicators['WCLPRICE'] = talib.WCLPRICE(high, low, close)\n",
    "\n",
    "    # Cycle Indicators\n",
    "    indicators['HT_DCPERIOD'] = talib.HT_DCPERIOD(close)\n",
    "    indicators['HT_DCPHASE'] = talib.HT_DCPHASE(close)\n",
    "    inphase, quadrature = talib.HT_PHASOR(close)\n",
    "    indicators['HT_PHASOR_inphase'] = inphase\n",
    "    indicators['HT_PHASOR_quadrature'] = quadrature\n",
    "    sine, leadsine = talib.HT_SINE(close)\n",
    "    indicators['HT_SINE'] = sine\n",
    "    indicators['HT_LEADSINE'] = leadsine\n",
    "    indicators['HT_TRENDLINE'] = talib.HT_TRENDLINE(close)\n",
    "    indicators['HT_TRENDMODE'] = talib.HT_TRENDMODE(close)\n",
    "\n",
    "    # Create DataFrame from indicators\n",
    "    indicators_df = pd.DataFrame(indicators, index=group_df.index)\n",
    "\n",
    "    # Concatenate the original DataFrame with the indicators DataFrame\n",
    "    group_df = pd.concat([group_df, indicators_df], axis=1)\n",
    "\n",
    "    # Create target variable\n",
    "    group_df['y'] = group_df['close'].shift(-1)  # Calculate percentage change and shift to align with the next day\n",
    "\n",
    "    return group_df\n",
    "\n",
    "feature_columns = [\n",
    "    'SMA', 'EMA', 'SAR', 'ADX', 'ADXR', 'APO', 'AROON_DOWN', 'AROON_UP', 'AROONOSC', 'ATR', 'AVGPRICE',\n",
    "    'Bollinger_Upper', 'Bollinger_Lower', 'BETA', 'BOP', 'CCI', 'RSI', 'MACD', 'MACD_signal', 'ROC', 'CMO',\n",
    "    'MFI', 'MOM', 'PPO', 'ROCP', 'ROCR', 'ROCR100', 'TRIX', 'ULTOSC', 'WILLR', 'NATR', 'TRANGE', 'OBV', 'ADL',\n",
    "    'ADOSC', 'AD', 'MEDPRICE', 'TYPPRICE', 'WCLPRICE', 'HT_DCPERIOD', 'HT_DCPHASE', 'HT_PHASOR_inphase',\n",
    "    'HT_PHASOR_quadrature', 'HT_SINE', 'HT_LEADSINE', 'HT_TRENDLINE', 'HT_TRENDMODE', 'CDL2CROWS', 'CDL3BLACKCROWS',\n",
    "    'CDL3INSIDE', 'CDL3LINESTRIKE', 'CDL3STARSINSOUTH', 'CDL3WHITESOLDIERS', 'CDLABANDONEDBABY', 'CDLADVANCEBLOCK',\n",
    "    'CDLBELTHOLD', 'CDLBREAKAWAY', 'CDLCLOSINGMARUBOZU', 'CDLCONCEALBABYSWALL', 'CDLCOUNTERATTACK', 'CDLDARKCLOUDCOVER',\n",
    "    'CDLDOJI', 'CDLDOJISTAR', 'CDLDRAGONFLYDOJI', 'CDLENGULFING', 'CDLEVENINGDOJISTAR', 'CDLEVENINGSTAR', 'CDLGAPSIDESIDEWHITE',\n",
    "    'CDLGRAVESTONEDOJI', 'CDLHAMMER', 'CDLHANGINGMAN', 'CDLHARAMI', 'CDLHARAMICROSS', 'CDLHIGHWAVE', 'CDLHIKKAKE', 'CDLHIKKAKEMOD',\n",
    "    'CDLHOMINGPIGEON', 'CDLIDENTICAL3CROWS', 'CDLINNECK', 'CDLINVERTEDHAMMER', 'CDLKICKING', 'CDLKICKINGBYLENGTH', 'CDLLADDERBOTTOM',\n",
    "    'CDLLONGLEGGEDDOJI', 'CDLLONGLINE', 'CDLMARUBOZU', 'CDLMATCHINGLOW', 'CDLMATHOLD', 'CDLMORNINGDOJISTAR', 'CDLMORNINGSTAR',\n",
    "    'CDLONNECK', 'CDLPIERCING', 'CDLRICKSHAWMAN', 'CDLRISEFALL3METHODS', 'CDLSEPARATINGLINES', 'CDLSHOOTINGSTAR', 'CDLSHORTLINE',\n",
    "    'CDLSPINNINGTOP', 'CDLSTALLEDPATTERN', 'CDLSTICKSANDWICH', 'CDLTAKURI', 'CDLTASUKIGAP', 'CDLTHRUSTING', 'CDLTRISTAR',\n",
    "    'CDLUNIQUE3RIVER', 'CDLUPSIDEGAP2CROWS', 'CDLXSIDEGAP3METHODS'\n",
    "]\n"
   ]
  },
  {
   "cell_type": "code",
   "execution_count": 4,
   "metadata": {},
   "outputs": [
    {
     "name": "stderr",
     "output_type": "stream",
     "text": [
      "C:\\Users\\adi10\\AppData\\Local\\Temp\\ipykernel_11196\\1494509322.py:4: FutureWarning: The default of observed=False is deprecated and will be changed to True in a future version of pandas. Pass observed=False to retain current behavior or observed=True to adopt the future default and silence this warning.\n",
      "  for symbol, group_df in tqdm(combined_df.groupby('symbol'), desc=\"Processing tickers\"):\n",
      "Processing tickers:  38%|███▊      | 863/2257 [00:09<00:16, 86.48it/s] "
     ]
    },
    {
     "name": "stdout",
     "output_type": "stream",
     "text": [
      "Received an empty DataFrame.\n"
     ]
    },
    {
     "name": "stderr",
     "output_type": "stream",
     "text": [
      "Processing tickers:  41%|████▏     | 935/2257 [00:10<00:12, 104.34it/s]"
     ]
    },
    {
     "name": "stdout",
     "output_type": "stream",
     "text": [
      "Received an empty DataFrame.\n"
     ]
    },
    {
     "name": "stderr",
     "output_type": "stream",
     "text": [
      "Processing tickers:  70%|██████▉   | 1571/2257 [00:17<00:06, 107.29it/s]"
     ]
    },
    {
     "name": "stdout",
     "output_type": "stream",
     "text": [
      "Received an empty DataFrame.\n"
     ]
    },
    {
     "name": "stderr",
     "output_type": "stream",
     "text": [
      "Processing tickers: 100%|██████████| 2257/2257 [00:24<00:00, 92.67it/s] \n"
     ]
    }
   ],
   "source": [
    "from tqdm import tqdm\n",
    "# Apply the TA-Lib indicators function to each group and concatenate the results with progress bar\n",
    "result_dfs = []\n",
    "for symbol, group_df in tqdm(combined_df.groupby('symbol'), desc=\"Processing tickers\"):\n",
    "    result_dfs.append(apply_talib_indicators(group_df))\n",
    "\n",
    "# Concatenate the results\n",
    "result_df = pd.concat(result_dfs)\n",
    "\n",
    "result_pd = result_df.reset_index(drop=True)\n",
    "\n",
    "result_pd.to_pickle('../data/processed/UpstoxDataWithIndicators.pkl')"
   ]
  },
  {
   "cell_type": "code",
   "execution_count": 3,
   "metadata": {},
   "outputs": [
    {
     "name": "stderr",
     "output_type": "stream",
     "text": [
      "C:\\Users\\adi10\\AppData\\Local\\Temp\\ipykernel_11820\\2489694105.py:61: FutureWarning: The default of observed=False is deprecated and will be changed to True in a future version of pandas. Pass observed=False to retain current behavior or observed=True to adopt the future default and silence this warning.\n",
      "  for symbol, group_df in tqdm(combined_df.groupby('symbol'), desc=\"Processing tickers\"):\n",
      "Processing tickers:  41%|████      | 928/2256 [00:02<00:03, 378.46it/s]"
     ]
    },
    {
     "name": "stdout",
     "output_type": "stream",
     "text": [
      "Received an empty DataFrame.\n",
      "Received an empty DataFrame.\n"
     ]
    },
    {
     "name": "stderr",
     "output_type": "stream",
     "text": [
      "Processing tickers:  72%|███████▏  | 1624/2256 [00:04<00:01, 357.31it/s]"
     ]
    },
    {
     "name": "stdout",
     "output_type": "stream",
     "text": [
      "Received an empty DataFrame.\n"
     ]
    },
    {
     "name": "stderr",
     "output_type": "stream",
     "text": [
      "Processing tickers: 100%|██████████| 2256/2256 [00:06<00:00, 348.82it/s]\n"
     ]
    }
   ],
   "source": [
    "import talib\n",
    "import pandas as pd\n",
    "from tqdm import tqdm\n",
    "import numpy as np\n",
    "\n",
    "# Function to apply TA-Lib indicators\n",
    "def apply_talib_indicators(group_df):\n",
    "\n",
    "    if group_df.empty:\n",
    "        print(\"Received an empty DataFrame.\")\n",
    "        return pd.DataFrame()\n",
    "    # Prices and volume\n",
    "    close = group_df['close'].astype(float).to_numpy()\n",
    "    high = group_df['high'].astype(float).to_numpy()\n",
    "    low = group_df['low'].astype(float).to_numpy()\n",
    "    volume = group_df['volume'].astype(float).to_numpy()\n",
    "\n",
    "    # Trend Indicators\n",
    "    group_df['SMA'] = talib.SMA(close, timeperiod=10)\n",
    "    group_df['EMA'] = talib.EMA(close, timeperiod=20)\n",
    "    group_df['SAR'] = talib.SAR(high, low, acceleration=0.02, maximum=0.2)\n",
    "\n",
    "    # Momentum Indicators\n",
    "    group_df['RSI'] = talib.RSI(close, timeperiod=14)\n",
    "    macd, macd_signal, _ = talib.MACD(close, fastperiod=12, slowperiod=26, signalperiod=9)\n",
    "    group_df['MACD'] = macd\n",
    "    group_df['MACD_signal'] = macd_signal\n",
    "    group_df['ROC'] = talib.ROC(close, timeperiod=10)\n",
    "\n",
    "    # Volatility Indicators\n",
    "    group_df['ATR'] = talib.ATR(high, low, close, timeperiod=14)\n",
    "    upperband, middleband, lowerband = talib.BBANDS(close, timeperiod=20, nbdevup=2, nbdevdn=2, matype=0)\n",
    "    group_df['Bollinger_Upper'] = upperband\n",
    "    group_df['Bollinger_Lower'] = lowerband\n",
    "\n",
    "    # Volume Indicators\n",
    "    group_df['OBV'] = talib.OBV(close, volume)\n",
    "    group_df['ADL'] = talib.AD(high, low, close, volume)\n",
    "    # Create target variable\n",
    "    group_df['y'] = group_df['close'].shift(-1)#.pct_change()  # Calculate percentage change and shift to align with the next day\n",
    "    return group_df\n",
    "\n",
    "feature_columns = [\n",
    "    'SMA',  # Simple Moving Average\n",
    "    'EMA',  # Exponential Moving Average\n",
    "    'SAR',  # Parabolic SAR\n",
    "    'RSI',  # Relative Strength Index\n",
    "    'MACD',  # Moving Average Convergence Divergence\n",
    "    'MACD_signal',  # Signal line for MACD\n",
    "    'ROC',  # Rate of Change\n",
    "    'ATR',  # Average True Range\n",
    "    'Bollinger_Upper',  # Upper Bollinger Band\n",
    "    'Bollinger_Lower',  # Lower Bollinger Band\n",
    "    'OBV',  # On-Balance Volume\n",
    "    'ADL'   # Accumulation Distribution Line\n",
    "]\n",
    "\n",
    "\n",
    "# Apply the TA-Lib indicators function to each group and concatenate the results with progress bar\n",
    "result_dfs = []\n",
    "for symbol, group_df in tqdm(combined_df.groupby('symbol'), desc=\"Processing tickers\"):\n",
    "    result_dfs.append(apply_talib_indicators(group_df))\n",
    "\n",
    "# Concatenate the results\n",
    "result_df = pd.concat(result_dfs)\n",
    "\n",
    "result_pd = result_df.reset_index(drop=True)\n",
    "\n",
    "result_pd.to_pickle('../data/processed/UpstoxDataWithIndicators.pkl')"
   ]
  },
  {
   "cell_type": "markdown",
   "metadata": {},
   "source": [
    "# Train and Save Model"
   ]
  },
  {
   "cell_type": "code",
   "execution_count": 1,
   "metadata": {},
   "outputs": [],
   "source": [
    "# Define categorical and numerical columns\n",
    "feature_columns = [\n",
    "    'SMA', 'EMA', 'SAR', 'ADX', 'ADXR', 'APO', 'AROON_DOWN', 'AROON_UP', 'AROONOSC', 'ATR', 'AVGPRICE',\n",
    "    'Bollinger_Upper', 'Bollinger_Lower', 'BETA', 'BOP', 'CCI', 'RSI', 'MACD', 'MACD_signal', 'ROC', 'CMO',\n",
    "    'MFI', 'MOM', 'PPO', 'ROCP', 'ROCR', 'ROCR100', 'TRIX', 'ULTOSC', 'WILLR', 'NATR', 'TRANGE', 'OBV', 'ADL',\n",
    "    'ADOSC', 'AD', 'MEDPRICE', 'TYPPRICE', 'WCLPRICE', 'HT_DCPERIOD', 'HT_DCPHASE', 'HT_PHASOR_inphase',\n",
    "    'HT_PHASOR_quadrature', 'HT_SINE', 'HT_LEADSINE', 'HT_TRENDLINE', 'HT_TRENDMODE', 'CDL2CROWS', 'CDL3BLACKCROWS',\n",
    "    'CDL3INSIDE', 'CDL3LINESTRIKE', 'CDL3STARSINSOUTH', 'CDL3WHITESOLDIERS', 'CDLABANDONEDBABY', 'CDLADVANCEBLOCK',\n",
    "    'CDLBELTHOLD', 'CDLBREAKAWAY', 'CDLCLOSINGMARUBOZU', 'CDLCONCEALBABYSWALL', 'CDLCOUNTERATTACK', 'CDLDARKCLOUDCOVER',\n",
    "    'CDLDOJI', 'CDLDOJISTAR', 'CDLDRAGONFLYDOJI', 'CDLENGULFING', 'CDLEVENINGDOJISTAR', 'CDLEVENINGSTAR', 'CDLGAPSIDESIDEWHITE',\n",
    "    'CDLGRAVESTONEDOJI', 'CDLHAMMER', 'CDLHANGINGMAN', 'CDLHARAMI', 'CDLHARAMICROSS', 'CDLHIGHWAVE', 'CDLHIKKAKE', 'CDLHIKKAKEMOD',\n",
    "    'CDLHOMINGPIGEON', 'CDLIDENTICAL3CROWS', 'CDLINNECK', 'CDLINVERTEDHAMMER', 'CDLKICKING', 'CDLKICKINGBYLENGTH', 'CDLLADDERBOTTOM',\n",
    "    'CDLLONGLEGGEDDOJI', 'CDLLONGLINE', 'CDLMARUBOZU', 'CDLMATCHINGLOW', 'CDLMATHOLD', 'CDLMORNINGDOJISTAR', 'CDLMORNINGSTAR',\n",
    "    'CDLONNECK', 'CDLPIERCING', 'CDLRICKSHAWMAN', 'CDLRISEFALL3METHODS', 'CDLSEPARATINGLINES', 'CDLSHOOTINGSTAR', 'CDLSHORTLINE',\n",
    "    'CDLSPINNINGTOP', 'CDLSTALLEDPATTERN', 'CDLSTICKSANDWICH', 'CDLTAKURI', 'CDLTASUKIGAP', 'CDLTHRUSTING', 'CDLTRISTAR',\n",
    "    'CDLUNIQUE3RIVER', 'CDLUPSIDEGAP2CROWS', 'CDLXSIDEGAP3METHODS'\n",
    "]\n",
    "categorical_columns = [\n",
    "    'CDL2CROWS', 'CDL3BLACKCROWS', 'CDL3INSIDE', 'CDL3LINESTRIKE', 'CDL3STARSINSOUTH', 'CDL3WHITESOLDIERS',\n",
    "    'CDLABANDONEDBABY', 'CDLADVANCEBLOCK', 'CDLBELTHOLD', 'CDLBREAKAWAY', 'CDLCLOSINGMARUBOZU', 'CDLCONCEALBABYSWALL',\n",
    "    'CDLCOUNTERATTACK', 'CDLDARKCLOUDCOVER', 'CDLDOJI', 'CDLDOJISTAR', 'CDLDRAGONFLYDOJI', 'CDLENGULFING',\n",
    "    'CDLEVENINGDOJISTAR', 'CDLEVENINGSTAR', 'CDLGAPSIDESIDEWHITE', 'CDLGRAVESTONEDOJI', 'CDLHAMMER', 'CDLHANGINGMAN',\n",
    "    'CDLHARAMI', 'CDLHARAMICROSS', 'CDLHIGHWAVE', 'CDLHIKKAKE', 'CDLHIKKAKEMOD', 'CDLHOMINGPIGEON', 'CDLIDENTICAL3CROWS',\n",
    "    'CDLINNECK', 'CDLINVERTEDHAMMER', 'CDLKICKING', 'CDLKICKINGBYLENGTH', 'CDLLADDERBOTTOM', 'CDLLONGLEGGEDDOJI',\n",
    "    'CDLLONGLINE', 'CDLMARUBOZU', 'CDLMATCHINGLOW', 'CDLMATHOLD', 'CDLMORNINGDOJISTAR', 'CDLMORNINGSTAR',\n",
    "    'CDLONNECK', 'CDLPIERCING', 'CDLRICKSHAWMAN', 'CDLRISEFALL3METHODS', 'CDLSEPARATINGLINES', 'CDLSHOOTINGSTAR',\n",
    "    'CDLSHORTLINE', 'CDLSPINNINGTOP', 'CDLSTALLEDPATTERN', 'CDLSTICKSANDWICH', 'CDLTAKURI', 'CDLTASUKIGAP',\n",
    "    'CDLTHRUSTING', 'CDLTRISTAR', 'CDLUNIQUE3RIVER', 'CDLUPSIDEGAP2CROWS', 'CDLXSIDEGAP3METHODS'\n",
    "]\n",
    "numerical_columns = [col for col in feature_columns if col not in categorical_columns]"
   ]
  },
  {
   "cell_type": "code",
   "execution_count": 2,
   "metadata": {},
   "outputs": [
    {
     "name": "stdout",
     "output_type": "stream",
     "text": [
      "Fitting estimator with 107 features.\n",
      "0:\tlearn: 1767.0154193\ttotal: 799ms\tremaining: 3.2s\n",
      "2:\tlearn: 1380.0456052\ttotal: 2.5s\tremaining: 1.66s\n",
      "4:\tlearn: 1225.0568205\ttotal: 4.16s\tremaining: 0us\n",
      "Fitting estimator with 106 features.\n",
      "0:\tlearn: 1767.2447123\ttotal: 532ms\tremaining: 2.13s\n",
      "2:\tlearn: 1381.7098990\ttotal: 1.39s\tremaining: 923ms\n",
      "4:\tlearn: 1226.2157943\ttotal: 2.23s\tremaining: 0us\n",
      "Fitting estimator with 105 features.\n",
      "0:\tlearn: 1768.2868050\ttotal: 422ms\tremaining: 1.69s\n",
      "2:\tlearn: 1381.5281793\ttotal: 1.26s\tremaining: 843ms\n",
      "4:\tlearn: 1227.0242393\ttotal: 2.1s\tremaining: 0us\n",
      "Fitting estimator with 104 features.\n",
      "0:\tlearn: 1767.1187491\ttotal: 448ms\tremaining: 1.79s\n",
      "2:\tlearn: 1381.4585084\ttotal: 1.31s\tremaining: 873ms\n",
      "4:\tlearn: 1226.2743235\ttotal: 2.22s\tremaining: 0us\n",
      "Fitting estimator with 103 features.\n",
      "0:\tlearn: 1767.3320976\ttotal: 436ms\tremaining: 1.74s\n",
      "2:\tlearn: 1381.6170645\ttotal: 1.23s\tremaining: 821ms\n",
      "4:\tlearn: 1226.3186225\ttotal: 2.05s\tremaining: 0us\n",
      "Fitting estimator with 102 features.\n",
      "0:\tlearn: 1766.9704628\ttotal: 454ms\tremaining: 1.81s\n",
      "2:\tlearn: 1381.8915335\ttotal: 1.31s\tremaining: 873ms\n",
      "4:\tlearn: 1226.5754078\ttotal: 2.19s\tremaining: 0us\n",
      "Fitting estimator with 101 features.\n",
      "0:\tlearn: 1766.9704628\ttotal: 494ms\tremaining: 1.97s\n",
      "2:\tlearn: 1381.8915335\ttotal: 1.62s\tremaining: 1.08s\n",
      "4:\tlearn: 1226.5760889\ttotal: 2.69s\tremaining: 0us\n",
      "Fitting estimator with 100 features.\n",
      "0:\tlearn: 1767.1241419\ttotal: 418ms\tremaining: 1.67s\n",
      "2:\tlearn: 1381.2647661\ttotal: 1.26s\tremaining: 839ms\n",
      "4:\tlearn: 1226.1573444\ttotal: 2.11s\tremaining: 0us\n",
      "Fitting estimator with 99 features.\n",
      "0:\tlearn: 1767.9805564\ttotal: 462ms\tremaining: 1.85s\n",
      "2:\tlearn: 1380.0988267\ttotal: 1.28s\tremaining: 855ms\n"
     ]
    }
   ],
   "source": [
    "from sklearn.feature_selection import RFE\n",
    "from catboost import CatBoostRegressor\n",
    "import numpy as np\n",
    "import pandas as pd\n",
    "\n",
    "# Separate feature selection step\n",
    "def run_rfe(x_pd, y, estimator, n_features_to_select):\n",
    "    rfe = RFE(estimator=estimator, n_features_to_select=n_features_to_select, step=1, verbose=2)\n",
    "    rfe.fit(x_pd, y)\n",
    "    return rfe.support_\n",
    "\n",
    "# Load data\n",
    "result_pd = pd.read_pickle('../data/processed/UpstoxDataWithIndicators.pkl').dropna()\n",
    "x_pd = result_pd[feature_columns]\n",
    "y = result_pd['y']  # Ensure you have the target variable defined\n",
    "\n",
    "# Run RFE with CatBoostRegressor (or any other regressor of your choice)\n",
    "selected_features_mask = run_rfe(x_pd, y, CatBoostRegressor(iterations=5, learning_rate=0.3, depth=2, thread_count=-1, verbose=2), n_features_to_select=30)\n",
    "\n",
    "# Get the selected feature names\n",
    "selected_features = x_pd.columns[selected_features_mask]\n",
    "\n",
    "print(\"Selected features:\", selected_features)\n"
   ]
  },
  {
   "cell_type": "code",
   "execution_count": 1,
   "metadata": {},
   "outputs": [],
   "source": [
    "feature_columns = ['SAR','ADX','ATR', 'AVGPRICE', 'Bollinger_Lower','Bollinger_Upper', 'BOP', 'CCI', 'RSI', 'MACD','ROC',\n",
    "       'MFI', 'WILLR', 'NATR', 'TRANGE', 'OBV', 'ADL', 'AD', 'MEDPRICE', 'TYPPRICE', 'MOM', 'CMO', 'ULTOSC','ADOSC',\n",
    "       'WCLPRICE']\n",
    "numerical_columns = feature_columns"
   ]
  },
  {
   "cell_type": "code",
   "execution_count": 2,
   "metadata": {},
   "outputs": [
    {
     "name": "stderr",
     "output_type": "stream",
     "text": [
      "Intel(R) Extension for Scikit-learn* enabled (https://github.com/intel/scikit-learn-intelex)\n"
     ]
    }
   ],
   "source": [
    "from sklearn.compose import ColumnTransformer\n",
    "from sklearn.preprocessing import OneHotEncoder\n",
    "from sklearn.preprocessing import StandardScaler\n",
    "from sklearn.preprocessing import RobustScaler, MinMaxScaler\n",
    "from sklearn.pipeline import Pipeline\n",
    "from sklearn.model_selection import train_test_split\n",
    "from catboost import CatBoostClassifier\n",
    "from sklearn.ensemble import RandomForestClassifier\n",
    "from sklearn.ensemble import RandomForestRegressor\n",
    "from catboost import CatBoostRegressor\n",
    "from sklearn.naive_bayes import GaussianNB\n",
    "from sklearnex import patch_sklearn\n",
    "from sklearn import set_config\n",
    "import numpy as np\n",
    "import pandas as pd\n",
    "import logging\n",
    "from tqdm import tqdm\n",
    "from sklearn.model_selection import TimeSeriesSplit\n",
    "from sklearn.feature_selection import RFE, SelectKBest, mutual_info_regression, mutual_info_classif\n",
    "\n",
    "\n",
    "patch_sklearn()\n",
    "set_config(transform_output=\"pandas\")\n",
    "\n",
    "# Preprocessing for numerical data\n",
    "numerical_pipeline = Pipeline([\n",
    "    ('robust_scaler', RobustScaler()),\n",
    "    ('minmax_scaler', MinMaxScaler()),\n",
    "    # ('selectkbest', SelectKBest(score_func=mutual_info_regression, k=10,))\n",
    "])\n",
    "\n",
    "# Preprocessing for categorical data\n",
    "categorical_pipeline = Pipeline([\n",
    "    ('onehot', OneHotEncoder(handle_unknown='ignore', sparse_output=False)),\n",
    "    ('selectkbest', SelectKBest(score_func=mutual_info_classif, k=10))\n",
    "])\n",
    "\n",
    "# Combine preprocessing steps\n",
    "preprocessor = ColumnTransformer([\n",
    "    ('num', numerical_pipeline, numerical_columns)\n",
    "    ('cat', categorical_pipeline, categorical_columns)\n",
    "])\n",
    "\n",
    "\n",
    "# Assuming logging is desired\n",
    "# logging.basicConfig(level=logging.INFO)\n",
    "\n",
    "\n",
    "# Define the regressors\n",
    "regressors = {\n",
    "    'random_forest': RandomForestRegressor(n_estimators=32, n_jobs=-1, random_state=42, verbose=2),\n",
    "    'catboost': CatBoostRegressor(iterations=1000, learning_rate=0.3, depth=10, thread_count=-1, verbose=100)\n",
    "}\n",
    "\n",
    "pipeline = Pipeline([\n",
    "    ('preprocessor', preprocessor),\n",
    "    ('regressor', regressors['random_forest'])\n",
    "])\n",
    "result_pd = pd.read_pickle('../data/processed/UpstoxDataWithIndicators.pkl').dropna()\n",
    "x_pd = result_pd[feature_columns]\n"
   ]
  },
  {
   "cell_type": "code",
   "execution_count": 3,
   "metadata": {},
   "outputs": [
    {
     "name": "stderr",
     "output_type": "stream",
     "text": [
      "[Parallel(n_jobs=-1)]: Using backend ThreadingBackend with 8 concurrent workers.\n"
     ]
    },
    {
     "name": "stdout",
     "output_type": "stream",
     "text": [
      "building tree 1 of 32\n",
      "building tree 2 of 32\n",
      "building tree 3 of 32\n",
      "building tree 4 of 32\n",
      "building tree 5 of 32\n",
      "building tree 6 of 32\n",
      "building tree 7 of 32\n",
      "building tree 8 of 32\n",
      "building tree 9 of 32\n",
      "building tree 10 of 32\n",
      "building tree 11 of 32\n",
      "building tree 12 of 32\n",
      "building tree 13 of 32\n",
      "building tree 14 of 32\n",
      "building tree 15 of 32\n",
      "building tree 16 of 32\n",
      "building tree 17 of 32\n",
      "building tree 18 of 32\n",
      "building tree 19 of 32\n",
      "building tree 20 of 32\n",
      "building tree 21 of 32\n",
      "building tree 22 of 32\n",
      "building tree 23 of 32\n",
      "building tree 24 of 32\n",
      "building tree 25 of 32\n",
      "building tree 26 of 32\n",
      "building tree 27 of 32\n",
      "building tree 28 of 32\n",
      "building tree 29 of 32\n",
      "building tree 30 of 32\n",
      "building tree 31 of 32\n",
      "building tree 32 of 32\n"
     ]
    },
    {
     "name": "stderr",
     "output_type": "stream",
     "text": [
      "[Parallel(n_jobs=-1)]: Done  32 out of  32 | elapsed: 28.3min finished\n",
      "[Parallel(n_jobs=8)]: Using backend ThreadingBackend with 8 concurrent workers.\n",
      "[Parallel(n_jobs=8)]: Done  32 out of  32 | elapsed:   13.5s finished\n"
     ]
    }
   ],
   "source": [
    "X = x_pd#.astype('float32').values\n",
    "y = result_pd['y']#.astype('float32').values.ravel()\n",
    "# Split the aggregated data into training and testing sets\n",
    "X_train, X_test, y_train, y_test = train_test_split(X, y, test_size=0.2, random_state=42, shuffle=False)\n",
    "\n",
    "# Train the model on the entire dataset\n",
    "pipeline.fit(X_train, y_train)\n",
    "y_pred = pipeline.predict(X_test)\n"
   ]
  },
  {
   "cell_type": "code",
   "execution_count": 4,
   "metadata": {},
   "outputs": [],
   "source": [
    "y_test = y_test.values"
   ]
  },
  {
   "cell_type": "code",
   "execution_count": 5,
   "metadata": {},
   "outputs": [
    {
     "name": "stdout",
     "output_type": "stream",
     "text": [
      "Mean Absolute Error (MAE): 6.4996720374912025\n",
      "Mean Squared Error (MSE): 710.7302663586412\n",
      "R-squared (R²): 0.9991767793802934\n",
      "Root Mean Squared Error (RMSE): 26.659524871209562\n",
      "Mean Absolute Percentage Error (MAPE): 2.594520876599251\n"
     ]
    },
    {
     "data": {
      "image/png": "[encoded data removed]",
      "text/plain": [
       "<Figure size 1400x700 with 1 Axes>"
      ]
     },
     "metadata": {},
     "output_type": "display_data"
    }
   ],
   "source": [
    "from sklearn.metrics import mean_absolute_error, mean_squared_error, r2_score\n",
    "import matplotlib.pyplot as plt\n",
    "import numpy as np\n",
    "\n",
    "# Evaluate the model\n",
    "mae = mean_absolute_error(y_test, y_pred)\n",
    "mse = mean_squared_error(y_test, y_pred)\n",
    "r2 = r2_score(y_test, y_pred)\n",
    "\n",
    "print(\"Mean Absolute Error (MAE):\", mae)\n",
    "print(\"Mean Squared Error (MSE):\", mse)\n",
    "print(\"R-squared (R²):\", r2)\n",
    "\n",
    "# Calculate RMSE\n",
    "rmse = np.sqrt(mean_squared_error(y_test, y_pred))\n",
    "print(\"Root Mean Squared Error (RMSE):\", rmse)\n",
    "\n",
    "# Calculate MAPE\n",
    "mape = np.mean(np.abs((y_test - y_pred) / y_test)) * 100\n",
    "print(\"Mean Absolute Percentage Error (MAPE):\", mape)\n",
    "\n",
    "\n",
    "# Plot the actual vs predicted prices\n",
    "plt.figure(figsize=(14, 7))\n",
    "\n",
    "# Plot all data points\n",
    "plt.plot(y_test, label='Actual', color='blue', marker='o', markersize=4, linestyle='dashed')\n",
    "plt.plot(y_pred, label='Predicted', color='orange', alpha=0.7, marker='x', markersize=4)\n",
    "\n",
    "plt.title('Actual vs Predicted Prices')\n",
    "plt.xlabel('Time')\n",
    "plt.ylabel('Price')\n",
    "plt.legend()\n",
    "plt.grid(True)\n",
    "plt.show()\n"
   ]
  },
  {
   "cell_type": "code",
   "execution_count": 6,
   "metadata": {},
   "outputs": [],
   "source": [
    "# Evaluate the model\n",
    "# from sklearn.metrics import accuracy_score, classification_report\n",
    "# accuracy = accuracy_score(y_test, y_pred)\n",
    "# print(\"Accuracy:\", accuracy)\n",
    "# print(classification_report(y_test, y_pred))\n"
   ]
  },
  {
   "cell_type": "code",
   "execution_count": 7,
   "metadata": {},
   "outputs": [
    {
     "data": {
      "text/plain": [
       "['../data/models/model_rf_two_scalars_multiplefeatures_25_feature_selection_32_estimators.joblib']"
      ]
     },
     "execution_count": 7,
     "metadata": {},
     "output_type": "execute_result"
    }
   ],
   "source": [
    "from joblib import dump, load\n",
    "\n",
    "model_filename = f'../data/models/model_rf_two_scalars_multiplefeatures_25_feature_selection_32_estimators.joblib'\n",
    "dump(pipeline, model_filename)\n"
   ]
  },
  {
   "cell_type": "markdown",
   "metadata": {},
   "source": [
    "# Make Predictions"
   ]
  },
  {
   "cell_type": "code",
   "execution_count": 1,
   "metadata": {},
   "outputs": [
    {
     "data": {
      "text/plain": [
       "['SMA',\n",
       " 'EMA',\n",
       " 'SAR',\n",
       " 'RSI',\n",
       " 'MACD',\n",
       " 'MACD_signal',\n",
       " 'ROC',\n",
       " 'ATR',\n",
       " 'Bollinger_Upper',\n",
       " 'Bollinger_Lower',\n",
       " 'OBV',\n",
       " 'ADL']"
      ]
     },
     "execution_count": 1,
     "metadata": {},
     "output_type": "execute_result"
    }
   ],
   "source": [
    "import configparser\n",
    "config = configparser.ConfigParser()\n",
    "config.read('../data/config.ini')\n",
    "model_selected = config.get('parameter', 'model_selected')\n",
    "feature_columns_str = config.get(model_selected, \"feature_columns\")\n",
    "feature_columns = feature_columns_str.strip().split(\",\")\n",
    "\n",
    "feature_columns\n"
   ]
  },
  {
   "cell_type": "code",
   "execution_count": 2,
   "metadata": {},
   "outputs": [],
   "source": [
    "import pandas as pd\n",
    "# Load the dataset you want to make predictions on\n",
    "# Make sure to process this dataframe the same way as the training data\n",
    "data_path = '../data/processed/UpstoxDataWithIndicators.pkl'\n",
    "data_df = pd.read_pickle(data_path)\n",
    "data_df = data_df[feature_columns].dropna()\n"
   ]
  },
  {
   "cell_type": "code",
   "execution_count": 3,
   "metadata": {},
   "outputs": [
    {
     "name": "stderr",
     "output_type": "stream",
     "text": [
      "Intel(R) Extension for Scikit-learn* enabled (https://github.com/intel/scikit-learn-intelex)\n"
     ]
    }
   ],
   "source": [
    "from joblib import load\n",
    "from sklearnex import patch_sklearn\n",
    "patch_sklearn()\n",
    "import configparser\n",
    "config = configparser.ConfigParser()\n",
    "config.read('../data/config.ini')\n",
    "model_selected = config.get('parameter', 'model_selected')\n",
    "# Load your pre-trained model\n",
    "model_path = f'../data/models/{model_selected}.joblib'\n",
    "model = load(model_path, mmap_mode='r+')\n"
   ]
  },
  {
   "cell_type": "code",
   "execution_count": 4,
   "metadata": {},
   "outputs": [
    {
     "name": "stderr",
     "output_type": "stream",
     "text": [
      "c:\\Users\\adi10\\.conda\\envs\\trading_env\\lib\\site-packages\\sklearn\\base.py:493: UserWarning: X does not have valid feature names, but MinMaxScaler was fitted with feature names\n",
      "  warnings.warn(\n",
      "c:\\Users\\adi10\\.conda\\envs\\trading_env\\lib\\site-packages\\sklearn\\base.py:493: UserWarning: X does not have valid feature names, but RandomForestRegressor was fitted with feature names\n",
      "  warnings.warn(\n",
      "[Parallel(n_jobs=8)]: Using backend ThreadingBackend with 8 concurrent workers.\n",
      "[Parallel(n_jobs=8)]: Done  30 out of  30 | elapsed:   30.1s finished\n"
     ]
    }
   ],
   "source": [
    "# Assuming 'data_df' is already preprocessed and ready for predictions\n",
    "X = data_df.astype('float32').values   \n",
    "\n",
    "# Make predictions\n",
    "predictions = model.predict(X)\n",
    "\n",
    "# Specify the path where you want to save the raw predictions\n",
    "save_path = '../data/predictions/raw_predictions.pkl'\n",
    "import pickle\n",
    "# Save the raw predictions\n",
    "with open(save_path, 'wb') as f:\n",
    "    pickle.dump(predictions, f)\n"
   ]
  },
  {
   "cell_type": "markdown",
   "metadata": {},
   "source": [
    "# Create Dataframe"
   ]
  },
  {
   "cell_type": "code",
   "execution_count": 1,
   "metadata": {},
   "outputs": [],
   "source": [
    "import configparser\n",
    "config = configparser.ConfigParser()\n",
    "config.read('../data/config.ini')\n",
    "model_selected = config.get('parameter', 'model_selected')\n",
    "feature_columns_str = config.get(model_selected, \"feature_columns\")\n",
    "feature_columns = feature_columns_str.strip().split(\",\")\n",
    "\n",
    "# Define the default columns list\n",
    "default_cols = ['date', 'open', 'high', 'low', 'close', 'volume', 'symbol']\n",
    "\n",
    "feature_columns_plus_default_cols = feature_columns + default_cols\n",
    "\n"
   ]
  },
  {
   "cell_type": "code",
   "execution_count": 2,
   "metadata": {},
   "outputs": [],
   "source": [
    "import pandas as pd\n",
    "import pickle\n",
    "# Load raw predictions\n",
    "with open('../data/predictions/raw_predictions.pkl', 'rb') as f:\n",
    "    predictions = pickle.load(f)\n",
    "\n",
    "data_path = '../data/processed/UpstoxDataWithIndicators.pkl'\n",
    "data_df = pd.read_pickle(data_path)\n",
    "predictions_df = data_df[feature_columns_plus_default_cols].copy()\n",
    "predictions_df = predictions_df.dropna()\n",
    "predictions_df['Predicted_Price'] = predictions"
   ]
  },
  {
   "cell_type": "code",
   "execution_count": 3,
   "metadata": {},
   "outputs": [
    {
     "name": "stderr",
     "output_type": "stream",
     "text": [
      "C:\\Users\\adi10\\AppData\\Local\\Temp\\ipykernel_16140\\2610187601.py:44: FutureWarning: The default of observed=False is deprecated and will be changed to True in a future version of pandas. Pass observed=False to retain current behavior or observed=True to adopt the future default and silence this warning.\n",
      "  signal_df = signal_df.groupby('symbol').apply(apply_signals_to_group, sensitivity=sensitivity).reset_index(drop=True)\n",
      "C:\\Users\\adi10\\AppData\\Local\\Temp\\ipykernel_16140\\2610187601.py:44: DeprecationWarning: DataFrameGroupBy.apply operated on the grouping columns. This behavior is deprecated, and in a future version of pandas the grouping columns will be excluded from the operation. Either pass `include_groups=False` to exclude the groupings or explicitly select the grouping columns after groupby to silence this warning.\n",
      "  signal_df = signal_df.groupby('symbol').apply(apply_signals_to_group, sensitivity=sensitivity).reset_index(drop=True)\n"
     ]
    }
   ],
   "source": [
    "import numpy as np\n",
    "from scipy.stats import zscore\n",
    "\n",
    "def calculate_continuous_signals(close_prices, predicted_prices, sensitivity):\n",
    "    if len(close_prices) < 2:\n",
    "        return np.zeros_like(close_prices)  # Return zero signals if not enough data\n",
    "\n",
    "    # Calculate log returns and volatility\n",
    "    log_returns = np.log(close_prices[1:] / close_prices[:-1])\n",
    "    if np.std(log_returns) == 0:\n",
    "        volatilities = np.zeros_like(close_prices)\n",
    "    else:\n",
    "        volatilities = np.std(log_returns) * np.sqrt(252)  # Annualizing\n",
    "\n",
    "    # Extend volatilities array to match the length of close_prices\n",
    "    volatilities = np.full_like(close_prices, volatilities)\n",
    "\n",
    "    # Calculate percentage differences and standardize by volatility\n",
    "    percentage_differences = (predicted_prices - close_prices) / close_prices * 100\n",
    "    standardized_differences = percentage_differences / volatilities\n",
    "\n",
    "    # Handle cases where volatilities might be zero\n",
    "    standardized_differences[volatilities == 0] = 0\n",
    "\n",
    "    # Calculate z-scores to dynamically determine thresholds\n",
    "    z_scores = zscore(standardized_differences, nan_policy='omit')\n",
    "\n",
    "    # Continuous signals based on z-scores and sensitivity\n",
    "    signals = z_scores / sensitivity\n",
    "\n",
    "    return signals\n",
    "\n",
    "def apply_signals_to_group(df_group, sensitivity=1):\n",
    "    close_prices = df_group['close'].values\n",
    "    predicted_prices = df_group['Predicted_Price'].values\n",
    "    df_group['signal'] = calculate_continuous_signals(close_prices, predicted_prices, sensitivity)\n",
    "    return df_group\n",
    "\n",
    "# Example usage\n",
    "signal_df = predictions_df.copy()\n",
    "sensitivity = 0.5\n",
    "\n",
    "# Apply the function to each group using groupby and apply\n",
    "signal_df = signal_df.groupby('symbol').apply(apply_signals_to_group, sensitivity=sensitivity).reset_index(drop=True)"
   ]
  },
  {
   "cell_type": "code",
   "execution_count": 4,
   "metadata": {},
   "outputs": [
    {
     "name": "stdout",
     "output_type": "stream",
     "text": [
      "Average number of stocks with a signal of greater than 7 per day: 8.39688622754491\n"
     ]
    }
   ],
   "source": [
    "# Filter to get only rows where the signal is 10\n",
    "signals_10_df = signal_df[signal_df['signal'] > 7]\n",
    "\n",
    "# Group by date and count unique stocks providing a signal of 10\n",
    "signals_10_count_per_day = signals_10_df.groupby('date').size()\n",
    "\n",
    "# Calculate the average number of stocks providing a signal of 10 per day across all days\n",
    "average_signals_10_per_day = signals_10_count_per_day.mean()\n",
    "# Output the average\n",
    "print(f\"Average number of stocks with a signal of greater than 7 per day: {average_signals_10_per_day}\")"
   ]
  },
  {
   "cell_type": "code",
   "execution_count": 5,
   "metadata": {},
   "outputs": [],
   "source": [
    "signal_df.to_pickle('../data/predictions/predictions.pkl')"
   ]
  },
  {
   "cell_type": "code",
   "execution_count": 1,
   "metadata": {},
   "outputs": [
    {
     "ename": "NameError",
     "evalue": "name 'signal_df' is not defined",
     "output_type": "error",
     "traceback": [
      "\u001b[1;31m---------------------------------------------------------------------------\u001b[0m",
      "\u001b[1;31mNameError\u001b[0m                                 Traceback (most recent call last)",
      "Cell \u001b[1;32mIn[1], line 5\u001b[0m\n\u001b[0;32m      2\u001b[0m \u001b[38;5;28;01mimport\u001b[39;00m \u001b[38;5;21;01mdatetime\u001b[39;00m\n\u001b[0;32m      4\u001b[0m \u001b[38;5;66;03m# Step 1: Convert 'date' column to datetime\u001b[39;00m\n\u001b[1;32m----> 5\u001b[0m signal_df[\u001b[38;5;124m'\u001b[39m\u001b[38;5;124mdate\u001b[39m\u001b[38;5;124m'\u001b[39m] \u001b[38;5;241m=\u001b[39m pd\u001b[38;5;241m.\u001b[39mto_datetime(\u001b[43msignal_df\u001b[49m[\u001b[38;5;124m'\u001b[39m\u001b[38;5;124mdate\u001b[39m\u001b[38;5;124m'\u001b[39m],errors\u001b[38;5;241m=\u001b[39m\u001b[38;5;124m'\u001b[39m\u001b[38;5;124mcoerce\u001b[39m\u001b[38;5;124m'\u001b[39m)\n\u001b[0;32m      7\u001b[0m \u001b[38;5;66;03m# Step 2: Determine the date 20 days ago\u001b[39;00m\n\u001b[0;32m      8\u001b[0m twenty_days_ago \u001b[38;5;241m=\u001b[39m datetime\u001b[38;5;241m.\u001b[39mdatetime\u001b[38;5;241m.\u001b[39mnow() \u001b[38;5;241m-\u001b[39m datetime\u001b[38;5;241m.\u001b[39mtimedelta(days\u001b[38;5;241m=\u001b[39m\u001b[38;5;241m20\u001b[39m)\n",
      "\u001b[1;31mNameError\u001b[0m: name 'signal_df' is not defined"
     ]
    }
   ],
   "source": [
    "import pandas as pd\n",
    "import datetime\n",
    "\n",
    "# Step 1: Convert 'date' column to datetime\n",
    "signal_df['date'] = pd.to_datetime(signal_df['date'],errors='coerce')\n",
    "\n",
    "# Step 2: Determine the date 20 days ago\n",
    "twenty_days_ago = datetime.datetime.now() - datetime.timedelta(days=20)\n",
    "\n",
    "# Step 3: Filter rows within the last twenty days\n",
    "filtered_df = signal_df[signal_df['date'] >= twenty_days_ago]\n",
    "\n",
    "# Step 4: Sort by 'signal'\n",
    "sorted_df = filtered_df.sort_values(by='signal', ascending=False)\n",
    "\n",
    "# Step 5: Get the maximum date in the DataFrame\n",
    "max_date = sorted_df['date'].max().strftime('%Y-%m-%d')\n",
    "\n",
    "print(f\"Maximum date: {max_date}\")\n",
    "\n",
    "sorted_df.to_excel(f'../data/predictions/excel_output/{max_date}.xlsx', index=False)"
   ]
  },
  {
   "cell_type": "code",
   "execution_count": null,
   "metadata": {},
   "outputs": [],
   "source": []
  }
 ],
 "metadata": {
  "kernelspec": {
   "display_name": "trading_env",
   "language": "python",
   "name": "python3"
  },
  "language_info": {
   "codemirror_mode": {
    "name": "ipython",
    "version": 3
   },
   "file_extension": ".py",
   "mimetype": "text/x-python",
   "name": "python",
   "nbconvert_exporter": "python",
   "pygments_lexer": "ipython3",
   "version": "3.10.14"
  }
 },
 "nbformat": 4,
 "nbformat_minor": 2
}
